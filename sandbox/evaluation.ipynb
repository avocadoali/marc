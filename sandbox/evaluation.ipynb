{
 "cells": [
  {
   "cell_type": "code",
   "execution_count": null,
   "metadata": {},
   "outputs": [],
   "source": [
    "import sys\n",
    "from arclib.eval import evaluate, compare\n",
    "\n",
    "# Set up the arguments as you would pass them to the script\n",
    "data_file = \"/path/to/arc-agi_evaluation_challenges.json\"\n",
    "solution_file = \"/path/to/arc-agi_evaluation_solutions.json\"\n",
    "submission_file = \"/path/to/your/submission.json\"\n",
    "task_info_file = \"tasks_info.csv\"  # optional\n",
    "plot_mistakes = True  # equivalent to --plot_mistakes flag\n",
    "\n",
    "# Run the evaluation\n",
    "corrects, total = evaluate(\n",
    "    data_file=data_file,\n",
    "    solution_file=solution_file,\n",
    "    submission_file=submission_file,\n",
    "    task_info_file=task_info_file,\n",
    "    mistakes=plot_mistakes\n",
    ")\n",
    "\n",
    "# If you want to compare two submissions\n",
    "compare_submission_file = \"/path/to/another/submission.json\"  # optional\n",
    "compare(\n",
    "    data_file=data_file,\n",
    "    solution_file=solution_file,\n",
    "    submission_1_file=submission_file,\n",
    "    submission_2_file=compare_submission_file,\n",
    "    plot_differents=plot_mistakes,\n",
    "    diff_folder=\"diffs\"\n",
    ")"
   ]
  },
  {
   "cell_type": "code",
   "execution_count": null,
   "metadata": {},
   "outputs": [],
   "source": []
  }
 ],
 "metadata": {
  "language_info": {
   "name": "python"
  }
 },
 "nbformat": 4,
 "nbformat_minor": 2
}
