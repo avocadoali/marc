{
 "cells": [
  {
   "cell_type": "code",
   "execution_count": null,
   "metadata": {},
   "outputs": [],
   "source": [
    "import sys\n",
    "from arclib.eval import evaluate, compare\n",
    "\n",
    "# Set up the arguments as you would pass them to the script\n",
    "data_file = \"/path/to/arc-agi_evaluation_challenges.json\"\n",
    "solution_file = \"/path/to/arc-agi_evaluation_solutions.json\"\n",
    "submission_file = \"/path/to/your/submission.json\"\n",
    "task_info_file = \"tasks_info.csv\"  # optional\n",
    "plot_mistakes = True  # equivalent to --plot_mistakes flag\n",
    "\n",
    "# Run the evaluation\n",
    "corrects, total = evaluate(\n",
    "    data_file=data_file,\n",
    "    solution_file=solution_file,\n",
    "    submission_file=submission_file,\n",
    "    task_info_file=task_info_file,\n",
    "    mistakes=plot_mistakes\n",
    ")\n",
    "\n",
    "# If you want to compare two submissions\n",
    "compare_submission_file = \"/path/to/another/submission.json\"  # optional\n",
    "compare(\n",
    "    data_file=data_file,\n",
    "    solution_file=solution_file,\n",
    "    submission_1_file=submission_file,\n",
    "    submission_2_file=compare_submission_file,\n",
    "    plot_differents=plot_mistakes,\n",
    "    diff_folder=\"diffs\"\n",
    ")"
   ]
  },
  {
   "cell_type": "code",
   "execution_count": null,
   "metadata": {},
   "outputs": [],
   "source": [
    "import numpy as np\n",
    "\n",
    "def log_intervals(start, end, num_checkpoints):\n",
    "    \"\"\"Generate logarithmically spaced checkpoint intervals.\"\"\"\n",
    "    intervals = np.logspace(np.log10(start+1), np.log10(end), num=num_checkpoints, dtype=int)\n",
    "    return sorted(set(intervals))  # Remove duplicates and sort\n",
    "\n",
    "# Parameters\n",
    "start_step = 0\n",
    "end_step = 500\n",
    "num_checkpoints = 10  # Adjust for finer/more coarse granularity\n",
    "\n",
    "# Generate and print checkpoint intervals\n",
    "checkpoints = log_intervals(start_step, end_step, num_checkpoints)\n",
    "print(\"Logarithmic Checkpoints:\", checkpoints)\n"
   ]
  },
  {
   "cell_type": "code",
   "execution_count": null,
   "metadata": {},
   "outputs": [],
   "source": []
  }
 ],
 "metadata": {
  "language_info": {
   "name": "python"
  }
 },
 "nbformat": 4,
 "nbformat_minor": 2
}
